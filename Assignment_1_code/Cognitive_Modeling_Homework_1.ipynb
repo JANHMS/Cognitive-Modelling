{
  "nbformat": 4,
  "nbformat_minor": 0,
  "metadata": {
    "colab": {
      "name": "Copy of Copy of Cognitive Modeling - Homework 1.ipynb",
      "provenance": [],
      "collapsed_sections": []
    },
    "kernelspec": {
      "name": "python3",
      "display_name": "Python 3"
    }
  },
  "cells": [
    {
      "cell_type": "markdown",
      "metadata": {
        "id": "TsZ5MeWON74V",
        "colab_type": "text"
      },
      "source": [
        "# Part 1 - Psychophysics"
      ]
    },
    {
      "cell_type": "code",
      "metadata": {
        "id": "aafhiKU6Q9j4",
        "colab_type": "code",
        "colab": {}
      },
      "source": [
        "import numpy as np\n",
        "import math\n",
        "import matplotlib.pyplot as plt\n",
        "from scipy.optimize import curve_fit\n",
        "import seaborn as sns\n"
      ],
      "execution_count": null,
      "outputs": []
    },
    {
      "cell_type": "markdown",
      "metadata": {
        "id": "RAEwZT7eSX-H",
        "colab_type": "text"
      },
      "source": [
        "#Stevens Law and Fit Steven's to Fechner's law\n",
        "\n"
      ]
    },
    {
      "cell_type": "markdown",
      "metadata": {
        "id": "8E_5SRtbZzRU",
        "colab_type": "text"
      },
      "source": [
        ""
      ]
    },
    {
      "cell_type": "code",
      "metadata": {
        "id": "ZR6pUovYYc4H",
        "colab_type": "code",
        "colab": {}
      },
      "source": [
        "luminance = np.arange(1, 11, 1)\n",
        "    "
      ],
      "execution_count": null,
      "outputs": []
    },
    {
      "cell_type": "code",
      "metadata": {
        "id": "TwFhFAAsdmAi",
        "colab_type": "code",
        "colab": {
          "base_uri": "https://localhost:8080/",
          "height": 51
        },
        "outputId": "e44e2edd-e006-4336-965e-3624f981e993"
      },
      "source": [
        "perc_brightness_stevens = 10 * np.power(luminance, 0.33)\n",
        "perc_brightness_stevens"
      ],
      "execution_count": null,
      "outputs": [
        {
          "output_type": "execute_result",
          "data": {
            "text/plain": [
              "array([10.        , 12.57013375, 14.36977652, 15.80082624, 17.00826843,\n",
              "       18.06300128, 19.00563363, 19.86184991, 20.64904773, 21.3796209 ])"
            ]
          },
          "metadata": {
            "tags": []
          },
          "execution_count": 5
        }
      ]
    },
    {
      "cell_type": "markdown",
      "metadata": {
        "id": "nkTZ7WPjZynv",
        "colab_type": "text"
      },
      "source": [
        ""
      ]
    },
    {
      "cell_type": "code",
      "metadata": {
        "id": "xls5Kv_ImOMH",
        "colab_type": "code",
        "colab": {}
      },
      "source": [
        "sns.set()"
      ],
      "execution_count": null,
      "outputs": []
    },
    {
      "cell_type": "code",
      "metadata": {
        "id": "0BZ9ubVrYnS9",
        "colab_type": "code",
        "colab": {
          "base_uri": "https://localhost:8080/",
          "height": 285
        },
        "outputId": "3ee650f7-5608-462c-cce3-2f89c2596e48"
      },
      "source": [
        "sns.lineplot(luminance, perc_brightness_stevens, markers = True, marker = \"o\")\n",
        "plt.xlabel('Luminance');\n",
        "plt.ylabel('Percieved b');"
      ],
      "execution_count": null,
      "outputs": [
        {
          "output_type": "display_data",
          "data": {
            "image/png": "[encoded data removed]",
            "text/plain": [
              "<Figure size 432x288 with 1 Axes>"
            ]
          },
          "metadata": {
            "tags": []
          }
        }
      ]
    },
    {
      "cell_type": "code",
      "metadata": {
        "id": "EMX1YtE6dqRo",
        "colab_type": "code",
        "colab": {
          "base_uri": "https://localhost:8080/",
          "height": 68
        },
        "outputId": "ec760095-b34c-4f21-b041-36b89f313033"
      },
      "source": [
        "X = [np.log(luminance), np.ones(10)]\n",
        "X"
      ],
      "execution_count": null,
      "outputs": [
        {
          "output_type": "execute_result",
          "data": {
            "text/plain": [
              "[array([0.        , 0.69314718, 1.09861229, 1.38629436, 1.60943791,\n",
              "        1.79175947, 1.94591015, 2.07944154, 2.19722458, 2.30258509]),\n",
              " array([1., 1., 1., 1., 1., 1., 1., 1., 1., 1.])]"
            ]
          },
          "metadata": {
            "tags": []
          },
          "execution_count": 12
        }
      ]
    },
    {
      "cell_type": "code",
      "metadata": {
        "id": "NlgqJVjyPsjb",
        "colab_type": "code",
        "colab": {
          "base_uri": "https://localhost:8080/",
          "height": 51
        },
        "outputId": "d4f87d87-e8ad-4879-fd60-7da31f0cd6a0"
      },
      "source": [
        "Y = np.array(perc_brightness_stevens)\n",
        "Y"
      ],
      "execution_count": null,
      "outputs": [
        {
          "output_type": "execute_result",
          "data": {
            "text/plain": [
              "array([10.        , 12.57013375, 14.36977652, 15.80082624, 17.00826843,\n",
              "       18.06300128, 19.00563363, 19.86184991, 20.64904773, 21.3796209 ])"
            ]
          },
          "metadata": {
            "tags": []
          },
          "execution_count": 13
        }
      ]
    },
    {
      "cell_type": "code",
      "metadata": {
        "id": "cVZIqD0umgkU",
        "colab_type": "code",
        "colab": {
          "base_uri": "https://localhost:8080/",
          "height": 85
        },
        "outputId": "1834546f-5bc1-4aa3-c9be-a46a3e2a9046"
      },
      "source": [
        "np.linalg.pinv(X).T"
      ],
      "execution_count": null,
      "outputs": [
        {
          "output_type": "execute_result",
          "data": {
            "text/plain": [
              "array([[-0.3123382 , -0.16900502, -0.08516049, -0.02567185,  0.02047113,\n",
              "         0.05817269,  0.0900489 ,  0.11766133,  0.14201722,  0.1638043 ],\n",
              "       [ 0.5717685 ,  0.35527216,  0.22862992,  0.13877582,  0.06907956,\n",
              "         0.01213358, -0.03601357, -0.07772052, -0.11450866, -0.14741678]])"
            ]
          },
          "metadata": {
            "tags": []
          },
          "execution_count": 14
        }
      ]
    },
    {
      "cell_type": "code",
      "metadata": {
        "id": "lsvxzuBRmjNr",
        "colab_type": "code",
        "colab": {
          "base_uri": "https://localhost:8080/",
          "height": 34
        },
        "outputId": "b90f3c1a-8f38-40c8-9667-3205c20ce3e5"
      },
      "source": [
        "a, b = np.dot(np.linalg.pinv(X).T, Y)\n",
        "np.dot(np.linalg.pinv(X).T, Y)"
      ],
      "execution_count": null,
      "outputs": [
        {
          "output_type": "execute_result",
          "data": {
            "text/plain": [
              "array([5.00478258, 9.31138574])"
            ]
          },
          "metadata": {
            "tags": []
          },
          "execution_count": 15
        }
      ]
    },
    {
      "cell_type": "code",
      "metadata": {
        "id": "lY-iR1zUmlfa",
        "colab_type": "code",
        "colab": {
          "base_uri": "https://localhost:8080/",
          "height": 34
        },
        "outputId": "55e38ba6-4f82-45b6-ae5f-73d3bab533a5"
      },
      "source": [
        "k = a \n",
        "k"
      ],
      "execution_count": null,
      "outputs": [
        {
          "output_type": "execute_result",
          "data": {
            "text/plain": [
              "5.004782583035386"
            ]
          },
          "metadata": {
            "tags": []
          },
          "execution_count": 16
        }
      ]
    },
    {
      "cell_type": "code",
      "metadata": {
        "id": "Gv9FLHA3mot0",
        "colab_type": "code",
        "colab": {
          "base_uri": "https://localhost:8080/",
          "height": 34
        },
        "outputId": "018bfd41-c8cc-4f5b-9a0a-bc83af97b765"
      },
      "source": [
        "threshold = np.power(np.e, -b/a)\n",
        "threshold"
      ],
      "execution_count": null,
      "outputs": [
        {
          "output_type": "execute_result",
          "data": {
            "text/plain": [
              "0.15559519451740791"
            ]
          },
          "metadata": {
            "tags": []
          },
          "execution_count": 17
        }
      ]
    },
    {
      "cell_type": "code",
      "metadata": {
        "id": "qncktVoRmq6D",
        "colab_type": "code",
        "colab": {}
      },
      "source": [
        "perc_brightness_fechner = k * np.log(luminance / threshold)"
      ],
      "execution_count": null,
      "outputs": []
    },
    {
      "cell_type": "code",
      "metadata": {
        "id": "b_NtmrivmtSF",
        "colab_type": "code",
        "colab": {
          "base_uri": "https://localhost:8080/",
          "height": 51
        },
        "outputId": "8444af6b-061e-4a0a-eaec-e8c435b187a2"
      },
      "source": [
        "perc_brightness_fechner"
      ],
      "execution_count": null,
      "outputs": [
        {
          "output_type": "execute_result",
          "data": {
            "text/plain": [
              "array([ 9.31138574, 12.78043668, 14.80970139, 16.24948761, 17.36627257,\n",
              "       18.27875233, 19.05024296, 19.71853855, 20.30801704, 20.83532351])"
            ]
          },
          "metadata": {
            "tags": []
          },
          "execution_count": 19
        }
      ]
    },
    {
      "cell_type": "code",
      "metadata": {
        "id": "nUVfG-uWmvMn",
        "colab_type": "code",
        "colab": {
          "base_uri": "https://localhost:8080/",
          "height": 51
        },
        "outputId": "dbfd3668-e89b-4207-fc6a-5bc2925960ec"
      },
      "source": [
        "perc_brightness_stevens"
      ],
      "execution_count": null,
      "outputs": [
        {
          "output_type": "execute_result",
          "data": {
            "text/plain": [
              "array([10.        , 12.57013375, 14.36977652, 15.80082624, 17.00826843,\n",
              "       18.06300128, 19.00563363, 19.86184991, 20.64904773, 21.3796209 ])"
            ]
          },
          "metadata": {
            "tags": []
          },
          "execution_count": 20
        }
      ]
    },
    {
      "cell_type": "code",
      "metadata": {
        "id": "pYp5HXsOmy7y",
        "colab_type": "code",
        "colab": {
          "base_uri": "https://localhost:8080/",
          "height": 285
        },
        "outputId": "3727f51a-f58f-40bf-ad58-361df7112a4c"
      },
      "source": [
        "\n",
        "sns.lineplot(luminance, perc_brightness_stevens, markers = True, marker = \"o\");\n",
        "sns.lineplot(luminance, perc_brightness_fechner, markers = True, marker = \"o\");\n",
        "plt.ylabel('Percieved brightness');\n",
        "plt.xlabel('Luminance');\n",
        "plt.legend(labels = ['Stevens', 'Fechner']);"
      ],
      "execution_count": null,
      "outputs": [
        {
          "output_type": "display_data",
          "data": {
            "image/png": "[encoded data removed]",
            "text/plain": [
              "<Figure size 432x288 with 1 Axes>"
            ]
          },
          "metadata": {
            "tags": []
          }
        }
      ]
    },
    {
      "cell_type": "code",
      "metadata": {
        "id": "dhkjmYvym-q1",
        "colab_type": "code",
        "colab": {}
      },
      "source": [
        "voltage = np.arange(1, 11, 1)"
      ],
      "execution_count": null,
      "outputs": []
    },
    {
      "cell_type": "code",
      "metadata": {
        "id": "l5WbWqrtnAZB",
        "colab_type": "code",
        "colab": {
          "base_uri": "https://localhost:8080/",
          "height": 68
        },
        "outputId": "5b2c4811-aecd-44e3-8e17-93a0150cf41f"
      },
      "source": [
        "perc_intensity_stevens = 0.00015 * np.power(voltage, 3.3)\n",
        "perc_intensity_stevens"
      ],
      "execution_count": null,
      "outputs": [
        {
          "output_type": "execute_result",
          "data": {
            "text/plain": [
              "array([1.50000000e-04, 1.47737330e-03, 5.63107614e-03, 1.45508790e-02,\n",
              "       3.03873112e-02, 5.54613434e-02, 9.22390436e-02, 1.43313868e-01,\n",
              "       2.11393457e-01, 2.99289347e-01])"
            ]
          },
          "metadata": {
            "tags": []
          },
          "execution_count": 24
        }
      ]
    },
    {
      "cell_type": "code",
      "metadata": {
        "id": "DLTnoXFinCFv",
        "colab_type": "code",
        "colab": {
          "base_uri": "https://localhost:8080/",
          "height": 285
        },
        "outputId": "7b38499b-31ed-4735-dfe8-e2aea1265cf4"
      },
      "source": [
        "sns.lineplot(voltage, perc_intensity_stevens, markers = True, marker = \"o\")\n",
        "plt.xlabel('Voltage');\n",
        "plt.ylabel('Percieved intensity');"
      ],
      "execution_count": null,
      "outputs": [
        {
          "output_type": "display_data",
          "data": {
            "image/png": "[encoded data removed]",
            "text/plain": [
              "<Figure size 432x288 with 1 Axes>"
            ]
          },
          "metadata": {
            "tags": []
          }
        }
      ]
    },
    {
      "cell_type": "code",
      "metadata": {
        "id": "2NuJlLN_nGUh",
        "colab_type": "code",
        "colab": {
          "base_uri": "https://localhost:8080/",
          "height": 85
        },
        "outputId": "7f8acd1e-cba2-44f6-cdc9-48b6130b0bd5"
      },
      "source": [
        "X = [np.log(voltage), np.ones(10)]\n",
        "Y = np.array(perc_intensity_stevens)\n",
        "np.linalg.pinv(X).T"
      ],
      "execution_count": null,
      "outputs": [
        {
          "output_type": "execute_result",
          "data": {
            "text/plain": [
              "array([[-0.3123382 , -0.16900502, -0.08516049, -0.02567185,  0.02047113,\n",
              "         0.05817269,  0.0900489 ,  0.11766133,  0.14201722,  0.1638043 ],\n",
              "       [ 0.5717685 ,  0.35527216,  0.22862992,  0.13877582,  0.06907956,\n",
              "         0.01213358, -0.03601357, -0.07772052, -0.11450866, -0.14741678]])"
            ]
          },
          "metadata": {
            "tags": []
          },
          "execution_count": 26
        }
      ]
    },
    {
      "cell_type": "code",
      "metadata": {
        "id": "HiZ5nV9jnNJa",
        "colab_type": "code",
        "colab": {
          "base_uri": "https://localhost:8080/",
          "height": 34
        },
        "outputId": "604b3d56-8c52-4906-f8b5-a91a6ed21c48"
      },
      "source": [
        "a, b = np.dot(np.linalg.pinv(X).T, Y)\n",
        "np.dot(np.linalg.pinv(X).T, Y)"
      ],
      "execution_count": null,
      "outputs": [
        {
          "output_type": "execute_result",
          "data": {
            "text/plain": [
              "array([ 0.10691369, -0.07609748])"
            ]
          },
          "metadata": {
            "tags": []
          },
          "execution_count": 27
        }
      ]
    },
    {
      "cell_type": "code",
      "metadata": {
        "id": "UKjtN2vwnQEW",
        "colab_type": "code",
        "colab": {}
      },
      "source": [
        "k = a "
      ],
      "execution_count": null,
      "outputs": []
    },
    {
      "cell_type": "code",
      "metadata": {
        "id": "p70DwbkBnR6Q",
        "colab_type": "code",
        "colab": {}
      },
      "source": [
        "threshold = np.power(np.e, -b/a)\n",
        "perc_intensity_fechner = k * np.log(voltage / threshold)"
      ],
      "execution_count": null,
      "outputs": []
    },
    {
      "cell_type": "code",
      "metadata": {
        "id": "m2koDqlcnZII",
        "colab_type": "code",
        "colab": {
          "base_uri": "https://localhost:8080/",
          "height": 285
        },
        "outputId": "301c35fc-f191-446e-ded3-8516bbbff6c9"
      },
      "source": [
        "\n",
        "sns.lineplot(voltage, perc_intensity_fechner, markers = True, marker = \"o\");\n",
        "sns.lineplot(voltage, perc_intensity_stevens, markers = True, marker = \"o\");\n",
        "plt.ylabel('intensity');\n",
        "plt.xlabel('Voltage');\n",
        "plt.legend(labels = ['Stevens', 'Fechner']);"
      ],
      "execution_count": null,
      "outputs": [
        {
          "output_type": "display_data",
          "data": {
            "image/png": "[encoded data removed]",
            "text/plain": [
              "<Figure size 432x288 with 1 Axes>"
            ]
          },
          "metadata": {
            "tags": []
          }
        }
      ]
    },
    {
      "cell_type": "markdown",
      "metadata": {
        "id": "5fJJcYsRlkXU",
        "colab_type": "text"
      },
      "source": [
        "###Outcome:\n",
        "It is able to observe that the logarithmic approach of Fechner's law does not estimate properly the trend in differences between percieved intensities of observers. Hence, Fechner's law is only a good approximation in experiments where stimuli detection behaves logarithmically."
      ]
    },
    {
      "cell_type": "markdown",
      "metadata": {
        "id": "Uxf-819QO4CL",
        "colab_type": "text"
      },
      "source": [
        "#Part 2 - Signal\tDetection"
      ]
    },
    {
      "cell_type": "code",
      "metadata": {
        "id": "-cEjgviCoT8E",
        "colab_type": "code",
        "colab": {}
      },
      "source": [
        "size = 50\n",
        "\n",
        "trials_noise_set_1 = np.random.normal(0, 1, size)\n",
        "trials_signal_set_1 = np.random.normal(1, 1, size)\n",
        "\n",
        "trials_noise_set_2 = np.random.normal(0, 1, size)\n",
        "trials_signal_set_2 = np.random.normal(1, 1, size)\n",
        "\n",
        "trials_noise_set_3 = np.random.normal(0, 1, size)\n",
        "trials_signal_set_3 = np.random.normal(1, 1, size)     \n",
        "\n",
        "\n",
        "        "
      ],
      "execution_count": null,
      "outputs": []
    },
    {
      "cell_type": "code",
      "metadata": {
        "id": "9MHnQCKaoW8n",
        "colab_type": "code",
        "colab": {}
      },
      "source": [
        "def conversion(criterion, data_input):\n",
        "    if (data_input >= criterion):\n",
        "        return 1\n",
        "    else:\n",
        "        return 0"
      ],
      "execution_count": null,
      "outputs": []
    },
    {
      "cell_type": "code",
      "metadata": {
        "id": "she-VlkhqOOv",
        "colab_type": "code",
        "colab": {}
      },
      "source": [
        "lbda = 0.5\n",
        "\n",
        "obs_response_signal_moderate = [conversion(lbda, signal_resp) for signal_resp in trials_signal_set_3]\n",
        "obs_response_noise_moderate = [conversion(lbda, noise_resp) for noise_resp in trials_noise_set_3]"
      ],
      "execution_count": null,
      "outputs": []
    },
    {
      "cell_type": "code",
      "metadata": {
        "id": "i07V9K0TqMKo",
        "colab_type": "code",
        "colab": {}
      },
      "source": [
        "lbda = -0.5\n",
        "\n",
        "obs_response_signal_lax = [conversion(lbda, signal_resp) for signal_resp in trials_signal_set_2]\n",
        "obs_response_noise_lax = [conversion(lbda, noise_resp) for noise_resp in trials_noise_set_2]"
      ],
      "execution_count": null,
      "outputs": []
    },
    {
      "cell_type": "code",
      "metadata": {
        "id": "4FaJ_yGOoamu",
        "colab_type": "code",
        "colab": {}
      },
      "source": [
        "lbda = 1.5\n",
        "\n",
        "obs_response_signal_conservative = [conversion(lbda, signal_resp) for signal_resp in trials_signal_set_1]\n",
        "obs_response_noise_conservative = [conversion(lbda, noise_resp) for noise_resp in trials_noise_set_1]"
      ],
      "execution_count": null,
      "outputs": []
    },
    {
      "cell_type": "code",
      "metadata": {
        "id": "3ZVwxVbKqUvf",
        "colab_type": "code",
        "colab": {}
      },
      "source": [
        "p_fa_moderate = sum(obs_response_noise_moderate) / len(trials_noise_set_3)\n",
        "p_cr_moderate = 1 - p_fa_moderate\n",
        "p_hit_moderate = sum(obs_response_signal_moderate) / len(trials_signal_set_3)\n",
        "p_miss_moderate = 1 - p_hit_moderate"
      ],
      "execution_count": null,
      "outputs": []
    },
    {
      "cell_type": "code",
      "metadata": {
        "id": "cz7QNkpjqS3P",
        "colab_type": "code",
        "colab": {}
      },
      "source": [
        "p_fa_lax = sum(obs_response_noise_lax) / len(trials_noise_set_2)\n",
        "p_cr_lax = 1 - p_fa_lax\n",
        "p_hit_lax = sum(obs_response_signal_lax) / len(trials_signal_set_2)\n",
        "p_miss_lax = 1 - p_hit_lax"
      ],
      "execution_count": null,
      "outputs": []
    },
    {
      "cell_type": "code",
      "metadata": {
        "id": "rl5WQvj3qQy9",
        "colab_type": "code",
        "colab": {}
      },
      "source": [
        "p_fa_conservative = sum(obs_response_noise_conservative) / len(trials_noise_set_1)\n",
        "p_cr_conservative = 1 - p_fa_conservative\n",
        "p_hit_conservative = sum(obs_response_signal_conservative) / len(trials_signal_set_1)\n",
        "p_miss_conservative = 1 - p_hit_conservative"
      ],
      "execution_count": null,
      "outputs": []
    },
    {
      "cell_type": "code",
      "metadata": {
        "id": "oU5V10E0PtFI",
        "colab_type": "code",
        "colab": {
          "base_uri": "https://localhost:8080/",
          "height": 85
        },
        "outputId": "04a455d5-241d-4c59-8a4a-40a97e02fc82"
      },
      "source": [
        "import scipy.stats as stats\n",
        "\n",
        "est_d_prime_conservative = stats.norm.ppf(p_hit_conservative) - stats.norm.ppf(p_fa_conservative)\n",
        "est_d_prime_lax = stats.norm.ppf(p_hit_lax) - stats.norm.ppf(p_fa_lax)\n",
        "est_d_prime_moderate = stats.norm.ppf(p_hit_moderate) - stats.norm.ppf(p_fa_moderate)\n",
        "print(\"d' for conservative \" + str(est_d_prime_conservative))\n",
        "print(\"d' for lax\" + str(est_d_prime_lax))\n",
        "print(\"d' for moderate \" + str(est_d_prime_moderate))\n",
        "\n",
        "print(\"It should all be 1\")"
      ],
      "execution_count": null,
      "outputs": [
        {
          "output_type": "stream",
          "text": [
            "d' for conservative 0.8222300530384167\n",
            "d' for lax0.5559188281069152\n",
            "d' for moderate 1.0018041986441109\n",
            "It should all be 1\n"
          ],
          "name": "stdout"
        }
      ]
    },
    {
      "cell_type": "markdown",
      "metadata": {
        "id": "3giy0TkVO45T",
        "colab_type": "text"
      },
      "source": [
        "#Part 3 - Confidence rating\n"
      ]
    },
    {
      "cell_type": "markdown",
      "metadata": {
        "id": "n-8FfHqZaPHe",
        "colab_type": "text"
      },
      "source": [
        "An observer responds according to a psychometric function shaped like a cumulative\n",
        "Gaussian probability function in a signal detection task. The table lists the number of yesresponses out of 50 trials for five stimulus levels given in arbitrary units."
      ]
    },
    {
      "cell_type": "code",
      "metadata": {
        "id": "VmRaryfUqQvO",
        "colab_type": "code",
        "colab": {}
      },
      "source": [
        "num_yes_creates_stimul = np.array([[0.4, 0.9, 1.2, 1.7, 2.3],[1, 6, 13, 32, 49]])\n",
        "stimul = num_yes_creates_stimul[0]\n",
        "num_yes = num_yes_creates_stimul[1]"
      ],
      "execution_count": null,
      "outputs": []
    },
    {
      "cell_type": "markdown",
      "metadata": {
        "id": "1hLvcMV9qKgv",
        "colab_type": "text"
      },
      "source": [
        "We have to estimate the parameters of the psychometric function. The function is represented as a CDF. \n",
        "Knowing this, we can write the psychometric function.\n",
        "We inverse the CDF function in order to retrieve the probability density function of our experiment. We can extract that information from the book. \n",
        "\n",
        "$$ \\phi[P(yes|x)]^{-1} = \\frac{x - \\mu}{\\sigma}$$\n",
        "\n",
        "The two unknown parameters are $\\mu$ and $\\sigma$,can be extracted from the linear form:\n",
        "$$ a * x + b$$\n",
        "\n",
        "\\\\\n",
        "$$ \\phi[P(yes|x)]^{-1} = \\frac{1}{\\sigma}x + (-\\frac{\\mu}{\\sigma})$$\n",
        "\n",
        "\\\\\n",
        "This is important because now we can compute $a = \\frac{1}{\\sigma}$ and $b = -\\frac{\\mu}{\\sigma}$.\n",
        "\n",
        "\\\\\n",
        "The data we have can be plottet like this and created the following graph:"
      ]
    },
    {
      "cell_type": "code",
      "metadata": {
        "id": "34zDeBi4Ptft",
        "colab_type": "code",
        "colab": {
          "base_uri": "https://localhost:8080/",
          "height": 279
        },
        "outputId": "7c6ed870-6291-4bb1-eab8-b74d6f5bcf8b"
      },
      "source": [
        "import matplotlib.pyplot as plt\n",
        "import numpy as np\n",
        "import seaborn as sns\n",
        "\n",
        "N = 50;\n",
        "u = 1.5;\n",
        "sigma = .5;\n",
        "\n",
        "# number of yesresponses out of 50 trials for five stimulus levels\n",
        "\n",
        "\n",
        "sns.set_style(style=\"whitegrid\")\n",
        "sns.lineplot(stimul, num_yes, palette=\"tab20\", linewidth=2.5, markers = True, marker = \"s\")\n",
        "plt.ylabel('number of yes')\n",
        "plt.xlabel('Stimulus level')\n",
        "plt.show()"
      ],
      "execution_count": null,
      "outputs": [
        {
          "output_type": "display_data",
          "data": {
            "image/png": "[encoded data removed]",
            "text/plain": [
              "<Figure size 432x288 with 1 Axes>"
            ]
          },
          "metadata": {
            "tags": []
          }
        }
      ]
    },
    {
      "cell_type": "markdown",
      "metadata": {
        "id": "WhrnraAYsA4E",
        "colab_type": "text"
      },
      "source": [
        "Interesting is 𝑃(𝑌𝑒𝑠|𝑠𝑡𝑖𝑚𝑢𝑙𝑢𝑠) ! "
      ]
    },
    {
      "cell_type": "code",
      "metadata": {
        "id": "AztnTsrqsRVa",
        "colab_type": "code",
        "colab": {
          "base_uri": "https://localhost:8080/",
          "height": 34
        },
        "outputId": "5c1951e0-d659-4957-f2ea-ba3bc8cf934b"
      },
      "source": [
        "p_yes = []\n",
        "for i in num_yes:\n",
        "  p_yes.append(i/N)\n",
        "print(p_yes)"
      ],
      "execution_count": null,
      "outputs": [
        {
          "output_type": "stream",
          "text": [
            "[0.02, 0.12, 0.26, 0.64, 0.98]\n"
          ],
          "name": "stdout"
        }
      ]
    },
    {
      "cell_type": "markdown",
      "metadata": {
        "id": "3rn2aXuxsh-U",
        "colab_type": "text"
      },
      "source": [
        "Now we have a list of the cummulative probabilities. "
      ]
    },
    {
      "cell_type": "code",
      "metadata": {
        "id": "qfg67ubts5Ym",
        "colab_type": "code",
        "colab": {
          "base_uri": "https://localhost:8080/",
          "height": 34
        },
        "outputId": "d013a0d3-7b51-4586-d792-5a34c3f94674"
      },
      "source": [
        "from scipy.stats import norm\n",
        "K = norm.ppf(p_yes)\n",
        "print(K)"
      ],
      "execution_count": null,
      "outputs": [
        {
          "output_type": "stream",
          "text": [
            "[-2.05374891 -1.17498679 -0.64334541  0.35845879  2.05374891]\n"
          ],
          "name": "stdout"
        }
      ]
    },
    {
      "cell_type": "markdown",
      "metadata": {
        "id": "1M1wv2X_t_UU",
        "colab_type": "text"
      },
      "source": [
        "So in our case 0.02 occurs at -2.05 on the x axis and 0.98 on the 2.05 x axis. We can assume that our Gauss glocke is syemmetric.\n"
      ]
    },
    {
      "cell_type": "markdown",
      "metadata": {
        "id": "zLfpeVBpocBB",
        "colab_type": "text"
      },
      "source": [
        "We want to plot the cumulative normal distribution and plot it.\n",
        "\n"
      ]
    },
    {
      "cell_type": "code",
      "metadata": {
        "id": "bRRFvmxvekl3",
        "colab_type": "code",
        "colab": {
          "base_uri": "https://localhost:8080/",
          "height": 265
        },
        "outputId": "2b087bf6-1bf4-470e-a91b-188f5a7cb87d"
      },
      "source": [
        "from scipy.stats import norm\n",
        "\n",
        "PC = norm.cdf((stimul-u)/sigma);\n",
        "sns.lineplot(stimul, PC, palette=\"tab20\", linewidth=2.5, markers = True, marker = \"s\")\n",
        "plt.show()\n"
      ],
      "execution_count": null,
      "outputs": [
        {
          "output_type": "display_data",
          "data": {
            "image/png": "[encoded data removed]",
            "text/plain": [
              "<Figure size 432x288 with 1 Axes>"
            ]
          },
          "metadata": {
            "tags": []
          }
        }
      ]
    },
    {
      "cell_type": "markdown",
      "metadata": {
        "id": "iiemnnYa06an",
        "colab_type": "text"
      },
      "source": [
        "We can find the slope between two points with a four loop, so we can ensure our graph is correct:"
      ]
    },
    {
      "cell_type": "code",
      "metadata": {
        "id": "xNAxjzo1yiEr",
        "colab_type": "code",
        "colab": {
          "base_uri": "https://localhost:8080/",
          "height": 34
        },
        "outputId": "5859e72a-04d9-42a8-c5f6-48bec29d390d"
      },
      "source": [
        "g_l = []\n",
        "for i in range(4):\n",
        "    a = (PC[i+1] - PC[i]) / (stimul[i+1] - stimul[i])\n",
        "    g_l.append(a)\n",
        "print(g_l)\n"
      ],
      "execution_count": null,
      "outputs": [
        {
          "output_type": "stream",
          "text": [
            "[0.20233244541641926, 0.5306114917612179, 0.762337247720501, 0.48296494448353]\n"
          ],
          "name": "stdout"
        }
      ]
    },
    {
      "cell_type": "markdown",
      "metadata": {
        "id": "WT0NgMSzuQyA",
        "colab_type": "text"
      },
      "source": [
        "Now, we will compute the parameters $\\mu$ and $\\sigma$, using $K$. \\\\\n",
        "$K$ has the inverse CDF of the probability of **yes** responses by observers."
      ]
    },
    {
      "cell_type": "markdown",
      "metadata": {
        "id": "WXaHHdJ1uwXv",
        "colab_type": "text"
      },
      "source": [
        "Additionally we need the matrix $X$ with two columns representing. \\\\\n",
        "1. Column of values for the original stimulus\n",
        "2. Column of ones for the computation of the intercept (_b_)"
      ]
    },
    {
      "cell_type": "code",
      "metadata": {
        "id": "vxru5TEFu_iL",
        "colab_type": "code",
        "colab": {
          "base_uri": "https://localhost:8080/",
          "height": 102
        },
        "outputId": "313a1447-8659-4490-e394-034d2329fbc0"
      },
      "source": [
        "X = np.concatenate((np.array(stimul).reshape(5,1), np.ones((5, 1))), axis = 1)\n",
        "print(X)"
      ],
      "execution_count": null,
      "outputs": [
        {
          "output_type": "stream",
          "text": [
            "[[0.4 1. ]\n",
            " [0.9 1. ]\n",
            " [1.2 1. ]\n",
            " [1.7 1. ]\n",
            " [2.3 1. ]]\n"
          ],
          "name": "stdout"
        }
      ]
    },
    {
      "cell_type": "markdown",
      "metadata": {
        "id": "cfdEWtd3vnDd",
        "colab_type": "text"
      },
      "source": [
        "Numpy has a useful tool linalg.pinv. \\\\\n",
        "It computes the (Moore-Penrose) pseudo-inverse of a matrix.\n",
        "\n",
        "Calculate the generalized inverse of a matrix using its singular-value decomposition (SVD) and including all large singular values."
      ]
    },
    {
      "cell_type": "code",
      "metadata": {
        "id": "o1F-lanTvl3I",
        "colab_type": "code",
        "colab": {
          "base_uri": "https://localhost:8080/",
          "height": 51
        },
        "outputId": "d881e646-5393-4f9f-8473-9e000ff79186"
      },
      "source": [
        "np.linalg.pinv(X)"
      ],
      "execution_count": null,
      "outputs": [
        {
          "output_type": "execute_result",
          "data": {
            "text/plain": [
              "array([[-0.42056075, -0.18691589, -0.04672897,  0.18691589,  0.46728972],\n",
              "       [ 0.74672897,  0.44299065,  0.26074766, -0.04299065, -0.40747664]])"
            ]
          },
          "metadata": {
            "tags": []
          },
          "execution_count": 30
        }
      ]
    },
    {
      "cell_type": "markdown",
      "metadata": {
        "id": "eCouOrwUvUJe",
        "colab_type": "text"
      },
      "source": [
        "Additionally we will want to compute the matrix $\\beta$, where we understand that $ \\beta= \\left[ {\\begin{array}{c} slope(a) \\\\ intercept(b) \\\\ \\end{array} } \\right]$."
      ]
    },
    {
      "cell_type": "code",
      "metadata": {
        "id": "YUzyxby-wi9u",
        "colab_type": "code",
        "colab": {
          "base_uri": "https://localhost:8080/",
          "height": 34
        },
        "outputId": "daa1e0b7-e11d-4b6e-e095-b57d14c753e7"
      },
      "source": [
        "a, b = np.dot(np.linalg.pinv(X), K)\n",
        "a,b"
      ],
      "execution_count": null,
      "outputs": [
        {
          "output_type": "execute_result",
          "data": {
            "text/plain": [
              "(2.1401101424610594, -3.074117866040939)"
            ]
          },
          "metadata": {
            "tags": []
          },
          "execution_count": 32
        }
      ]
    },
    {
      "cell_type": "markdown",
      "metadata": {
        "id": "p5bIrMQjwqqG",
        "colab_type": "text"
      },
      "source": [
        "That is great, because now we can easily find $\\sigma$. \n"
      ]
    },
    {
      "cell_type": "code",
      "metadata": {
        "id": "LkJuYLChwwEy",
        "colab_type": "code",
        "colab": {
          "base_uri": "https://localhost:8080/",
          "height": 34
        },
        "outputId": "07affdb5-3dfb-490a-e88c-7c1d5dc8471e"
      },
      "source": [
        "sigma = 1/a\n",
        "sigma"
      ],
      "execution_count": null,
      "outputs": [
        {
          "output_type": "execute_result",
          "data": {
            "text/plain": [
              "0.467265670191176"
            ]
          },
          "metadata": {
            "tags": []
          },
          "execution_count": 34
        }
      ]
    },
    {
      "cell_type": "markdown",
      "metadata": {
        "id": "5EMhs28LxEMh",
        "colab_type": "text"
      },
      "source": [
        "$\\mu$ -> We just need to refere to the earlier made linear equation and can reconstruct it:"
      ]
    },
    {
      "cell_type": "code",
      "metadata": {
        "id": "PfmHmtdKw396",
        "colab_type": "code",
        "colab": {
          "base_uri": "https://localhost:8080/",
          "height": 34
        },
        "outputId": "5541a844-d942-4c1a-eb00-3fec35b5fbd8"
      },
      "source": [
        "mu = -sigma *b\n",
        "print(mu)\n"
      ],
      "execution_count": null,
      "outputs": [
        {
          "output_type": "stream",
          "text": [
            "1.4364297449222871\n"
          ],
          "name": "stdout"
        }
      ]
    },
    {
      "cell_type": "markdown",
      "metadata": {
        "id": "Y-YGnQO-xVp0",
        "colab_type": "text"
      },
      "source": [
        "#Outcome:\n",
        "$\\mu = 1.43$ and $\\sigma = 0.46$ values of the psychometric function."
      ]
    },
    {
      "cell_type": "markdown",
      "metadata": {
        "id": "QkJVzM-3x1nx",
        "colab_type": "text"
      },
      "source": [
        "Now we can go on to the next task"
      ]
    },
    {
      "cell_type": "markdown",
      "metadata": {
        "id": "ZfXHxexIxy2X",
        "colab_type": "text"
      },
      "source": [
        "### Psychometric function - sensitivity ($d'$) computation\n",
        "\n"
      ]
    },
    {
      "cell_type": "markdown",
      "metadata": {
        "id": "wuczlBIf1d1h",
        "colab_type": "text"
      },
      "source": [
        "Just 2 values: \n",
        "\n",
        "The sensitivity of this observer refers to distance between the gaussian PDF of the stimulus of high intensity (centered around the mean $\\mu_s = 2$) and the gaussian PDF of the stimulus of low intensity (centered around the mean $\\mu_s = 1$).\n",
        "\n",
        "We use the formula for the sensitivity $d'$ of the equal variance observer: \n",
        "\n",
        "\n",
        "$d' = \\phi^{-1}(P(Hit)) - \\phi^{-1}(P(FA))$. \n",
        "\n",
        "This can be extacted from the script or book.\n",
        "\n",
        "\n",
        "We have to use the values of __P(Hit)__ and __P(FA)__ from the psychometric function. \n",
        "\n",
        "\n",
        " $$\\phi^{-1}(P(High|x = 2)) = \\phi^{-1}(P(Hit))$$ and $$\\phi^{-1}(P(High|x = 1)) = \\phi^{-1}(P(FA))$$\n",
        " Placing x = 1 and x = 2, into the linear function.\n"
      ]
    },
    {
      "cell_type": "code",
      "metadata": {
        "id": "6hWTl4dC42m4",
        "colab_type": "code",
        "colab": {
          "base_uri": "https://localhost:8080/",
          "height": 34
        },
        "outputId": "8404dfc5-fe6d-4f76-c597-4c3ecd874342"
      },
      "source": [
        "x_high = 2\n",
        "i_p_hit = (1/sigma) * x_high + (-mu/sigma)\n",
        "print(i_p_hit)"
      ],
      "execution_count": null,
      "outputs": [
        {
          "output_type": "stream",
          "text": [
            "1.2061024188811795\n"
          ],
          "name": "stdout"
        }
      ]
    },
    {
      "cell_type": "code",
      "metadata": {
        "id": "N8iBQCdk481K",
        "colab_type": "code",
        "colab": {
          "base_uri": "https://localhost:8080/",
          "height": 34
        },
        "outputId": "80a880f4-7c4e-48ba-90ed-45f0ecc80687"
      },
      "source": [
        "x_low = 1\n",
        "i_p_fa = (1/sigma) * x_low + (-mu/sigma)\n",
        "print(i_p_fa)"
      ],
      "execution_count": null,
      "outputs": [
        {
          "output_type": "stream",
          "text": [
            "-0.9340077235798798\n"
          ],
          "name": "stdout"
        }
      ]
    },
    {
      "cell_type": "code",
      "metadata": {
        "id": "xx9vFx3P5CeT",
        "colab_type": "code",
        "colab": {
          "base_uri": "https://localhost:8080/",
          "height": 34
        },
        "outputId": "b9e3351b-cf56-447f-af2c-49ad3796f100"
      },
      "source": [
        "d_p = i_p_hit - i_p_fa\n",
        "d_p"
      ],
      "execution_count": null,
      "outputs": [
        {
          "output_type": "execute_result",
          "data": {
            "text/plain": [
              "2.1401101424610594"
            ]
          },
          "metadata": {
            "tags": []
          },
          "execution_count": 56
        }
      ]
    },
    {
      "cell_type": "markdown",
      "metadata": {
        "id": "jzdE5gOl5UUr",
        "colab_type": "text"
      },
      "source": [
        "Hence $d'$ is 2.14 "
      ]
    },
    {
      "cell_type": "code",
      "metadata": {
        "id": "W8704Ie85Ukc",
        "colab_type": "code",
        "colab": {}
      },
      "source": [
        ""
      ],
      "execution_count": null,
      "outputs": []
    }
  ]
}