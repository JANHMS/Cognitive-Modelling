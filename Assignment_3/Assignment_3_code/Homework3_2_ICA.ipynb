{
  "nbformat": 4,
  "nbformat_minor": 0,
  "metadata": {
    "colab": {
      "name": "Homework3_2_ICA.ipynb",
      "provenance": [],
      "collapsed_sections": []
    },
    "kernelspec": {
      "name": "python3",
      "display_name": "Python 3"
    }
  },
  "cells": [
    {
      "cell_type": "code",
      "metadata": {
        "id": "2_rC0Qu5vDWB"
      },
      "source": [
        "from math import copysign,sqrt\n",
        "import matplotlib\n",
        "from statistics import *\n",
        "import numpy as np\n",
        "import matplotlib.pyplot as plt\n",
        "from skimage.io import imread\n",
        "from skimage import color\n",
        "from skimage import io\n",
        "from skimage.util import view_as_blocks\n",
        "from sklearn.feature_extraction import image\n",
        "from sklearn.decomposition import PCA\n",
        "from sklearn.linear_model import LinearRegression\n",
        "from sklearn.decomposition import FastICA, PCA\n",
        "import seaborn as sns\n",
        "from sklearn.decomposition import FastICA\n",
        "import matplotlib.pyplot as plt\n",
        "from sklearn.metrics import mean_squared_error, mean_absolute_error\n",
        "from scipy.io import wavfile\n",
        "\n",
        "import matplotlib.pyplot as plt\n",
        "sns.set()\n",
        "import wave\n",
        "import sys"
      ],
      "execution_count": 47,
      "outputs": []
    },
    {
      "cell_type": "code",
      "metadata": {
        "id": "Df1IVhR54N52"
      },
      "source": [
        "np.random.seed(123)"
      ],
      "execution_count": 66,
      "outputs": []
    },
    {
      "cell_type": "markdown",
      "metadata": {
        "id": "IBH2xywpv1vI"
      },
      "source": [
        "First,\tpull\t2\ttimes\t10000\tsamples\tfrom a Laplacian\t\n",
        "distribution\t"
      ]
    },
    {
      "cell_type": "code",
      "metadata": {
        "id": "Xf9Hxg6lwnDA"
      },
      "source": [
        "#Signal Arrays"
      ],
      "execution_count": 67,
      "outputs": []
    },
    {
      "cell_type": "code",
      "metadata": {
        "id": "0fQeJs4Wtvdd"
      },
      "source": [
        "first_array = [np.random.laplace() for x in range(10000)]\n",
        "second_array =[np.random.laplace() for x in range(10000)]"
      ],
      "execution_count": 85,
      "outputs": []
    },
    {
      "cell_type": "code",
      "metadata": {
        "id": "CxZcUeq4ySV2"
      },
      "source": [
        "S = np.zeros((2,10000))"
      ],
      "execution_count": 86,
      "outputs": []
    },
    {
      "cell_type": "code",
      "metadata": {
        "id": "vPQaQu3HzeLr"
      },
      "source": [
        "# fill the array with the lapplace distribution values"
      ],
      "execution_count": 87,
      "outputs": []
    },
    {
      "cell_type": "code",
      "metadata": {
        "id": "wB7E9fC9x9wT"
      },
      "source": [
        "S[0,:] = first_array\n",
        "S[1,:] = second_array"
      ],
      "execution_count": 88,
      "outputs": []
    },
    {
      "cell_type": "code",
      "metadata": {
        "id": "79Tl2tlQ2KIL",
        "outputId": "df69e10d-88a6-4f39-9143-719ce3e04926",
        "colab": {
          "base_uri": "https://localhost:8080/"
        }
      },
      "source": [
        "S.T"
      ],
      "execution_count": 89,
      "outputs": [
        {
          "output_type": "execute_result",
          "data": {
            "text/plain": [
              "array([[ 1.72604041,  0.34057731],\n",
              "       [-2.71472924,  0.19093637],\n",
              "       [ 0.69778547, -0.11542926],\n",
              "       ...,\n",
              "       [-0.08966309,  1.90315614],\n",
              "       [ 0.34706826,  0.58791026],\n",
              "       [-0.83597683,  1.54091831]])"
            ]
          },
          "metadata": {
            "tags": []
          },
          "execution_count": 89
        }
      ]
    },
    {
      "cell_type": "code",
      "metadata": {
        "id": "U5gWnmOC2M76",
        "outputId": "c4a97c24-0897-4d2a-8c0b-e008bfae6109",
        "colab": {
          "base_uri": "https://localhost:8080/"
        }
      },
      "source": [
        "S.shape"
      ],
      "execution_count": 90,
      "outputs": [
        {
          "output_type": "execute_result",
          "data": {
            "text/plain": [
              "(2, 10000)"
            ]
          },
          "metadata": {
            "tags": []
          },
          "execution_count": 90
        }
      ]
    },
    {
      "cell_type": "markdown",
      "metadata": {
        "id": "dS6wxA902ViE"
      },
      "source": [
        "mix the values randomly, so we choose one of a column and then add it to the new one, but randomly the first or second"
      ]
    },
    {
      "cell_type": "code",
      "metadata": {
        "id": "ROwvT2Wx2AIr"
      },
      "source": [
        "r = np.random.choice([True, False], 2)"
      ],
      "execution_count": 91,
      "outputs": []
    },
    {
      "cell_type": "code",
      "metadata": {
        "id": "zvXAlQQ_04vv"
      },
      "source": [
        "z = S.copy()\n",
        "z[r] = S[r]"
      ],
      "execution_count": 92,
      "outputs": []
    },
    {
      "cell_type": "code",
      "metadata": {
        "id": "2hIs3ejuxrt3",
        "outputId": "ad7fef56-04f3-4b45-e19a-ae99e675f420",
        "colab": {
          "base_uri": "https://localhost:8080/"
        }
      },
      "source": [
        "z.shape"
      ],
      "execution_count": 93,
      "outputs": [
        {
          "output_type": "execute_result",
          "data": {
            "text/plain": [
              "(2, 10000)"
            ]
          },
          "metadata": {
            "tags": []
          },
          "execution_count": 93
        }
      ]
    },
    {
      "cell_type": "code",
      "metadata": {
        "id": "i6DHOSbI61Jo"
      },
      "source": [
        "S = z"
      ],
      "execution_count": 94,
      "outputs": []
    },
    {
      "cell_type": "code",
      "metadata": {
        "id": "yBaf9qxowJdq"
      },
      "source": [
        "A = np.random.rand(2,2);\n"
      ],
      "execution_count": 95,
      "outputs": []
    },
    {
      "cell_type": "code",
      "metadata": {
        "id": "5mNqvg7ILcbN",
        "outputId": "58f7601c-97d7-4799-f371-6fb71343fa8e",
        "colab": {
          "base_uri": "https://localhost:8080/"
        }
      },
      "source": [
        "A"
      ],
      "execution_count": 96,
      "outputs": [
        {
          "output_type": "execute_result",
          "data": {
            "text/plain": [
              "array([[0.33803011, 0.12082353],\n",
              "       [0.71048911, 0.82440558]])"
            ]
          },
          "metadata": {
            "tags": []
          },
          "execution_count": 96
        }
      ]
    },
    {
      "cell_type": "markdown",
      "metadata": {
        "id": "jUboLMGE3Tvp"
      },
      "source": [
        "We multiply the Signal of 2x10000 shape with a random array of 2x1 shape to get the Sensor X"
      ]
    },
    {
      "cell_type": "code",
      "metadata": {
        "id": "ltBogbPm2l2S"
      },
      "source": [
        "X=A.dot(S)"
      ],
      "execution_count": 97,
      "outputs": []
    },
    {
      "cell_type": "code",
      "metadata": {
        "id": "ed1Vz3cm3LxB",
        "outputId": "fcb734db-b53c-4a87-b4bc-dad999df5cf2",
        "colab": {
          "base_uri": "https://localhost:8080/"
        }
      },
      "source": [
        "X"
      ],
      "execution_count": 98,
      "outputs": [
        {
          "output_type": "execute_result",
          "data": {
            "text/plain": [
              "array([[ 0.62460338, -0.89459062,  0.22192593, ...,  0.19963722,\n",
              "         0.18835292, -0.09640615],\n",
              "       [ 1.50710674, -1.77137654,  0.40060845, ...,  1.50526789,\n",
              "         0.73126471,  0.67638922]])"
            ]
          },
          "metadata": {
            "tags": []
          },
          "execution_count": 98
        }
      ]
    },
    {
      "cell_type": "markdown",
      "metadata": {
        "id": "Y-sIx98k3b4g"
      },
      "source": [
        "now we want to plot X and S and see how they differ"
      ]
    },
    {
      "cell_type": "code",
      "metadata": {
        "id": "o5AM6wR36HvF",
        "outputId": "bcf4cc57-bed4-464d-8085-f05f110c77f6",
        "colab": {
          "base_uri": "https://localhost:8080/",
          "height": 268
        }
      },
      "source": [
        "plt.scatter(S[0,:],S[1,:])\n",
        "plt.show() "
      ],
      "execution_count": 99,
      "outputs": [
        {
          "output_type": "display_data",
          "data": {
            "image/png": "[encoded data removed]",
            "text/plain": [
              "<Figure size 432x288 with 1 Axes>"
            ]
          },
          "metadata": {
            "tags": []
          }
        }
      ]
    },
    {
      "cell_type": "code",
      "metadata": {
        "id": "bxck5EuewFLH",
        "outputId": "f4c33ecc-ca38-4759-8885-c3a6c49d968b",
        "colab": {
          "base_uri": "https://localhost:8080/",
          "height": 268
        }
      },
      "source": [
        "plt.scatter(X[0,:],X[1,:])\n",
        "plt.show() "
      ],
      "execution_count": 100,
      "outputs": [
        {
          "output_type": "display_data",
          "data": {
            "image/png": "[encoded data removed]",
            "text/plain": [
              "<Figure size 432x288 with 1 Axes>"
            ]
          },
          "metadata": {
            "tags": []
          }
        }
      ]
    },
    {
      "cell_type": "markdown",
      "metadata": {
        "id": "tPiRjUOH4aRv"
      },
      "source": [
        "Here we can wondersully see the laplace distribution plotted against each other "
      ]
    },
    {
      "cell_type": "markdown",
      "metadata": {
        "id": "-_Pa8mqa4tXO"
      },
      "source": [
        "Second ex"
      ]
    },
    {
      "cell_type": "code",
      "metadata": {
        "id": "v_Sc2di96gTH"
      },
      "source": [
        "pca = PCA()"
      ],
      "execution_count": 101,
      "outputs": []
    },
    {
      "cell_type": "markdown",
      "metadata": {
        "id": "Jjr7-RH29EHP"
      },
      "source": [
        "The numpy. matmul() function returns the matrix product of two arrays. While it returns a normal product for 2-D arrays, if dimensions of either argument is >2, it is treated as a stack of matrices residing in the last two indexes and is broadcast accordingly"
      ]
    },
    {
      "cell_type": "code",
      "metadata": {
        "id": "qg0Qgbbp4sqr",
        "outputId": "aea5b247-9a3c-4394-d4ad-910df50d1f43",
        "colab": {
          "base_uri": "https://localhost:8080/"
        }
      },
      "source": [
        "W = pca.fit_transform(S)\n",
        "X_pca = pca.components_.T\n",
        "print(X_pca.shape)\n",
        "print(W.shape)\n",
        "S_reconstruct = np.matmul(X_pca,W.T).T\n",
        "print(S_reconstruct.shape)"
      ],
      "execution_count": 102,
      "outputs": [
        {
          "output_type": "stream",
          "text": [
            "(10000, 2)\n",
            "(2, 2)\n",
            "(2, 10000)\n"
          ],
          "name": "stdout"
        }
      ]
    },
    {
      "cell_type": "code",
      "metadata": {
        "id": "RJpAmwmp5QJx",
        "outputId": "eb26fea6-60d4-45d6-e2dc-52e83435ef3e",
        "colab": {
          "base_uri": "https://localhost:8080/",
          "height": 268
        }
      },
      "source": [
        "plt.scatter(S_reconstruct[0,:],S_reconstruct[1,:])\n",
        "plt.show() "
      ],
      "execution_count": 103,
      "outputs": [
        {
          "output_type": "display_data",
          "data": {
            "image/png": "[encoded data removed]",
            "text/plain": [
              "<Figure size 432x288 with 1 Axes>"
            ]
          },
          "metadata": {
            "tags": []
          }
        }
      ]
    },
    {
      "cell_type": "markdown",
      "metadata": {
        "id": "NFcRIn--3Kyj"
      },
      "source": [
        "We can see that the data has a variance of 0,  so PCA is -1, but thtas not correct, because we follow a Gaussian distribution with the PCA, which does not result in correct results in this ex"
      ]
    },
    {
      "cell_type": "markdown",
      "metadata": {
        "id": "u4uAOw4K9eEv"
      },
      "source": [
        "### Now we go to numner 3, the ICA"
      ]
    },
    {
      "cell_type": "code",
      "metadata": {
        "id": "3Lz6ISWW9qrb"
      },
      "source": [
        "ica = FastICA()"
      ],
      "execution_count": 104,
      "outputs": []
    },
    {
      "cell_type": "code",
      "metadata": {
        "id": "DRKOF9rp5rCb",
        "outputId": "006ab800-b2ea-4eea-f1a2-a0299a7c0e7a",
        "colab": {
          "base_uri": "https://localhost:8080/"
        }
      },
      "source": [
        "X = X.T\n",
        "X.shape\n"
      ],
      "execution_count": 105,
      "outputs": [
        {
          "output_type": "execute_result",
          "data": {
            "text/plain": [
              "(10000, 2)"
            ]
          },
          "metadata": {
            "tags": []
          },
          "execution_count": 105
        }
      ]
    },
    {
      "cell_type": "code",
      "metadata": {
        "id": "zubzc-wk32E7"
      },
      "source": [
        "X_transposed = ica.fit_transform(X)  # Reconstruct signalsS_.shapeX_transformed.shape\n"
      ],
      "execution_count": 106,
      "outputs": []
    },
    {
      "cell_type": "code",
      "metadata": {
        "id": "b9_Arn5P5o13",
        "outputId": "fa88e622-29bd-43f4-cc8a-d1d6871ffe61",
        "colab": {
          "base_uri": "https://localhost:8080/"
        }
      },
      "source": [
        "X_transposed.shape"
      ],
      "execution_count": 107,
      "outputs": [
        {
          "output_type": "execute_result",
          "data": {
            "text/plain": [
              "(10000, 2)"
            ]
          },
          "metadata": {
            "tags": []
          },
          "execution_count": 107
        }
      ]
    },
    {
      "cell_type": "markdown",
      "metadata": {
        "id": "8QQfCNZ-4-01"
      },
      "source": [
        "### We have to transpose the Matrix because we want to run ica\n",
        "\n"
      ]
    },
    {
      "cell_type": "code",
      "metadata": {
        "id": "KGsq2rgz-I9L",
        "outputId": "f7c46c51-ce89-4d0a-a630-f9aa2e62d495",
        "colab": {
          "base_uri": "https://localhost:8080/",
          "height": 268
        }
      },
      "source": [
        "plt.scatter(X_transposed[:,0],X_transposed[:,1])\n",
        "plt.show() "
      ],
      "execution_count": 108,
      "outputs": [
        {
          "output_type": "display_data",
          "data": {
            "image/png": "[encoded data removed]",
            "text/plain": [
              "<Figure size 432x288 with 1 Axes>"
            ]
          },
          "metadata": {
            "tags": []
          }
        }
      ]
    },
    {
      "cell_type": "markdown",
      "metadata": {
        "id": "c27sWcjg6K5z"
      },
      "source": [
        "We can see that the ica method recreated the picture well"
      ]
    },
    {
      "cell_type": "markdown",
      "metadata": {
        "id": "sjvuj2Kg6rFT"
      },
      "source": [
        "### Now the last exercise, we want to mount the guitar sounds"
      ]
    },
    {
      "cell_type": "code",
      "metadata": {
        "id": "jnSuBmqe-VY6",
        "outputId": "7e18d50f-37f1-405e-e01a-05f9f8ec35d2",
        "colab": {
          "base_uri": "https://localhost:8080/"
        }
      },
      "source": [
        "from google.colab import drive\n",
        "drive.mount('/content/gdrive')"
      ],
      "execution_count": 110,
      "outputs": [
        {
          "output_type": "stream",
          "text": [
            "Drive already mounted at /content/gdrive; to attempt to forcibly remount, call drive.mount(\"/content/gdrive\", force_remount=True).\n"
          ],
          "name": "stdout"
        }
      ]
    },
    {
      "cell_type": "markdown",
      "metadata": {
        "id": "E2bHdJHNFdGO"
      },
      "source": [
        "### I am using a different wav file, because the wave of the teacher is 24 bit file, which creates errors to read in"
      ]
    },
    {
      "cell_type": "code",
      "metadata": {
        "id": "JvroGDts83HJ"
      },
      "source": [
        "path_to_audio = \"/content/gdrive/My Drive/data\"\n",
        "mix1 = '/content/gdrive/My Drive/data/ICA_mix_1.wav'\n",
        "mix2 = '/content/gdrive/My Drive/data/ICA_mix_2.wav'\n"
      ],
      "execution_count": 111,
      "outputs": []
    },
    {
      "cell_type": "code",
      "metadata": {
        "id": "t0W3M1gufDng",
        "outputId": "651d4c82-734b-4d29-a531-74e56cee8b92",
        "colab": {
          "base_uri": "https://localhost:8080/"
        }
      },
      "source": [
        "import os\n",
        "os.chdir(\"/content/gdrive/My Drive/data/\")\n",
        "!ls"
      ],
      "execution_count": 112,
      "outputs": [
        {
          "output_type": "stream",
          "text": [
            "ICA_mix_1.wav  ICA_mix_2.wav  result_signal_1.wav  result_signal_2.wav\n"
          ],
          "name": "stdout"
        }
      ]
    },
    {
      "cell_type": "markdown",
      "metadata": {
        "id": "QQRMXCJs7bXn"
      },
      "source": [
        "We want to read in the wav file and plot it"
      ]
    },
    {
      "cell_type": "code",
      "metadata": {
        "id": "mt7VDgUaDxqc"
      },
      "source": [
        "mix_1_wave = wave.open(mix1,'r')\n",
        "mix_2_wave = wave.open(mix2,'r')\n"
      ],
      "execution_count": 113,
      "outputs": []
    },
    {
      "cell_type": "code",
      "metadata": {
        "id": "-4D683uU7eR1",
        "outputId": "5e361b14-209e-4c63-f7fd-70cf21533421",
        "colab": {
          "base_uri": "https://localhost:8080/"
        }
      },
      "source": [
        "mix_1_wave.getparams()\n"
      ],
      "execution_count": 114,
      "outputs": [
        {
          "output_type": "execute_result",
          "data": {
            "text/plain": [
              "_wave_params(nchannels=1, sampwidth=2, framerate=44100, nframes=264515, comptype='NONE', compname='not compressed')"
            ]
          },
          "metadata": {
            "tags": []
          },
          "execution_count": 114
        }
      ]
    },
    {
      "cell_type": "code",
      "metadata": {
        "id": "1P4ryFlKBA5n",
        "outputId": "67539dbb-5818-45b5-e9d4-10a0c47659d4",
        "colab": {
          "base_uri": "https://localhost:8080/"
        }
      },
      "source": [
        "# Extract Raw Audio from Wav File\n",
        "signal_1_raw = mix_1_wave.readframes(-1)\n",
        "signal_1 = np.frombuffer(signal_1_raw, 'Int16')\n",
        "\n",
        "#Extract Raw Audio from Wav File\n",
        "signal_raw_2 = mix_2_wave.readframes(-1)\n",
        "signal_2 = np.frombuffer(signal_raw_2, 'Int16')"
      ],
      "execution_count": 115,
      "outputs": [
        {
          "output_type": "stream",
          "text": [
            "/usr/local/lib/python3.6/dist-packages/ipykernel_launcher.py:3: DeprecationWarning: Numeric-style type codes are deprecated and will result in an error in the future.\n",
            "  This is separate from the ipykernel package so we can avoid doing imports until\n",
            "/usr/local/lib/python3.6/dist-packages/ipykernel_launcher.py:7: DeprecationWarning: Numeric-style type codes are deprecated and will result in an error in the future.\n",
            "  import sys\n"
          ],
          "name": "stderr"
        }
      ]
    },
    {
      "cell_type": "code",
      "metadata": {
        "id": "_b9pxv9bD7YR",
        "outputId": "7cb82f1d-f4be-4193-d6e7-01cdb2374c28",
        "colab": {
          "base_uri": "https://localhost:8080/"
        }
      },
      "source": [
        "'length: ', len(signal_1) , 'first 100 elements: ',signal_1[:100]\n"
      ],
      "execution_count": 116,
      "outputs": [
        {
          "output_type": "execute_result",
          "data": {
            "text/plain": [
              "('length: ',\n",
              " 264515,\n",
              " 'first 100 elements: ',\n",
              " array([  879,  1268,  1460,  1756,  1943,  2216,  2407,  2668,  2866,\n",
              "         3106,  3308,  3546,  3752,  3981,  4175,  4395,  4588,  4790,\n",
              "         4966,  5146,  5292,  5436,  5550,  5643,  5717,  5759,  5790,\n",
              "         5798,  5789,  5756,  5713,  5649,  5576,  5478,  5381,  5267,\n",
              "         5146,  4999,  4856,  4682,  4502,  4308,  4097,  3875,  3637,\n",
              "         3380,  3107,  2825,  2514,  2194,  1847,  1472,  1087,   671,\n",
              "          227,  -219,  -691, -1176, -1666, -2167, -2669, -3179, -3668,\n",
              "        -4170, -4643, -5116, -5559, -5985, -6380, -6765, -7105, -7422,\n",
              "        -7706, -7955, -8163, -8339, -8470, -8557, -8600, -8618, -8585,\n",
              "        -8524, -8425, -8298, -8129, -7947, -7720, -7475, -7205, -6916,\n",
              "        -6606, -6266, -5922, -5556, -5165, -4774, -4353, -3922, -3476,\n",
              "        -3021], dtype=int16))"
            ]
          },
          "metadata": {
            "tags": []
          },
          "execution_count": 116
        }
      ]
    },
    {
      "cell_type": "code",
      "metadata": {
        "id": "C7COlNB9hXOl",
        "outputId": "f0c178e7-74fd-491d-978a-058deed90171",
        "colab": {
          "base_uri": "https://localhost:8080/"
        }
      },
      "source": [
        "mix_1_wave.getframerate()"
      ],
      "execution_count": 117,
      "outputs": [
        {
          "output_type": "execute_result",
          "data": {
            "text/plain": [
              "44100"
            ]
          },
          "metadata": {
            "tags": []
          },
          "execution_count": 117
        }
      ]
    },
    {
      "cell_type": "code",
      "metadata": {
        "id": "1aWqfUh5hZKx",
        "outputId": "fe64e17c-efee-43ca-e65e-dfd30310b01e",
        "colab": {
          "base_uri": "https://localhost:8080/"
        }
      },
      "source": [
        "signal_1"
      ],
      "execution_count": 118,
      "outputs": [
        {
          "output_type": "execute_result",
          "data": {
            "text/plain": [
              "array([  879,  1268,  1460, ...,  9204,  9553, 10006], dtype=int16)"
            ]
          },
          "metadata": {
            "tags": []
          },
          "execution_count": 118
        }
      ]
    },
    {
      "cell_type": "markdown",
      "metadata": {
        "id": "WzPHmtFy29CT"
      },
      "source": [
        "We want to normalize so that we can comapre better the resulting ICA later\n"
      ]
    },
    {
      "cell_type": "code",
      "metadata": {
        "id": "rOPRRhZ0sLNi"
      },
      "source": [
        "from sklearn.preprocessing import normalize\n"
      ],
      "execution_count": 129,
      "outputs": []
    },
    {
      "cell_type": "code",
      "metadata": {
        "id": "B4IDEq5Rv1h9"
      },
      "source": [
        "signal_1 = normalize(signal_1[:,np.newaxis], axis=0).ravel()\n",
        "signal_2 = normalize(signal_2[:,np.newaxis], axis=0).ravel()\n"
      ],
      "execution_count": 130,
      "outputs": []
    },
    {
      "cell_type": "code",
      "metadata": {
        "id": "PLT1V2l_D88R",
        "outputId": "2f4332a9-2bdf-450c-baf1-8b190637d87d",
        "colab": {
          "base_uri": "https://localhost:8080/",
          "height": 192
        }
      },
      "source": [
        "\n",
        "fs = mix_1_wave.getframerate()\n",
        "timing = np.linspace(0, len(signal_1)/fs, num=len(signal_1))\n",
        "\n",
        "plt.figure(figsize=(12,2))\n",
        "plt.title('Recording 1')\n",
        "plt.plot(timing,signal_1, c=\"#3ABFE7\")\n",
        "plt.ylim(-0.010, 0.010)\n"
      ],
      "execution_count": 131,
      "outputs": [
        {
          "output_type": "execute_result",
          "data": {
            "text/plain": [
              "(-0.01, 0.01)"
            ]
          },
          "metadata": {
            "tags": []
          },
          "execution_count": 131
        },
        {
          "output_type": "display_data",
          "data": {
            "image/png": "[encoded data removed]",
            "text/plain": [
              "<Figure size 864x144 with 1 Axes>"
            ]
          },
          "metadata": {
            "tags": []
          }
        }
      ]
    },
    {
      "cell_type": "code",
      "metadata": {
        "id": "-GLWitd5hlyy",
        "outputId": "f5a1e99a-5a5a-4bdf-a869-c12f23f7dc26",
        "colab": {
          "base_uri": "https://localhost:8080/",
          "height": 192
        }
      },
      "source": [
        "fs = mix_2_wave.getframerate()\n",
        "timing_2 = np.linspace(0, len(signal_1)/fs, num=len(signal_1))\n",
        "\n",
        "plt.figure(figsize=(12,2))\n",
        "plt.title('Recording 2')\n",
        "plt.plot(timing,signal_2, c=\"#3ABFE7\")\n",
        "plt.ylim(-0.010, 0.010)\n"
      ],
      "execution_count": 132,
      "outputs": [
        {
          "output_type": "execute_result",
          "data": {
            "text/plain": [
              "(-0.01, 0.01)"
            ]
          },
          "metadata": {
            "tags": []
          },
          "execution_count": 132
        },
        {
          "output_type": "display_data",
          "data": {
            "image/png": "[encoded data removed]",
            "text/plain": [
              "<Figure size 864x144 with 1 Axes>"
            ]
          },
          "metadata": {
            "tags": []
          }
        }
      ]
    },
    {
      "cell_type": "markdown",
      "metadata": {
        "id": "xID9gzU8FkjY"
      },
      "source": [
        "### Wonderful graph of the wav first mix and second"
      ]
    },
    {
      "cell_type": "markdown",
      "metadata": {
        "id": "W1zP9LnOG2Mr"
      },
      "source": [
        "Now that we’ve read all two files, we’re ready to zip them to create our dataset.\n",
        "\n",
        "\n",
        "\n",
        "\n"
      ]
    },
    {
      "cell_type": "code",
      "metadata": {
        "id": "Hip3pJt7D_0E"
      },
      "source": [
        "X = list(zip(signal_1, signal_2))"
      ],
      "execution_count": 133,
      "outputs": []
    },
    {
      "cell_type": "code",
      "metadata": {
        "id": "Hn1JMbYTG5mJ"
      },
      "source": [
        "# Initialize FastICA\n",
        "ica = FastICA()\n",
        "\n",
        "# Run the FastICA algorithm using fit_transform on dataset X\n",
        "ica_result = ica.fit_transform(X)"
      ],
      "execution_count": 134,
      "outputs": []
    },
    {
      "cell_type": "code",
      "metadata": {
        "id": "EPBSfuOwG9xc",
        "outputId": "4ba9f75e-e5f2-40b5-804e-e7006ec5b80f",
        "colab": {
          "base_uri": "https://localhost:8080/"
        }
      },
      "source": [
        "ica_result.shape\n"
      ],
      "execution_count": 135,
      "outputs": [
        {
          "output_type": "execute_result",
          "data": {
            "text/plain": [
              "(264515, 2)"
            ]
          },
          "metadata": {
            "tags": []
          },
          "execution_count": 135
        }
      ]
    },
    {
      "cell_type": "code",
      "metadata": {
        "id": "j6uUK2V7HE5l"
      },
      "source": [
        "result_signal_1 = ica_result[:,0]\n",
        "result_signal_2 = ica_result[:,1]"
      ],
      "execution_count": 136,
      "outputs": []
    },
    {
      "cell_type": "code",
      "metadata": {
        "id": "-op-yEFWHFXR",
        "outputId": "98c8a421-bf11-47db-e9c8-7436ec2f2b95",
        "colab": {
          "base_uri": "https://localhost:8080/",
          "height": 333
        }
      },
      "source": [
        "# Plot Independent Component #1\n",
        "plt.figure(figsize=(12,2))\n",
        "plt.title('Independent Component #1')\n",
        "plt.plot(result_signal_1, c=\"#df8efd\")\n",
        "plt.ylim(-0.010, 0.010)\n",
        "plt.show()\n",
        "\n",
        "# Plot Independent Component #2\n",
        "plt.figure(figsize=(12,2))\n",
        "plt.title('Independent Component #2')\n",
        "plt.plot(result_signal_2, c=\"#87de72\")\n",
        "plt.ylim(-0.010, 0.010)\n",
        "plt.show()\n"
      ],
      "execution_count": 137,
      "outputs": [
        {
          "output_type": "display_data",
          "data": {
            "image/png": "[encoded data removed]",
            "text/plain": [
              "<Figure size 864x144 with 1 Axes>"
            ]
          },
          "metadata": {
            "tags": []
          }
        },
        {
          "output_type": "display_data",
          "data": {
            "image/png": "[encoded data removed]",
            "text/plain": [
              "<Figure size 864x144 with 1 Axes>"
            ]
          },
          "metadata": {
            "tags": []
          }
        }
      ]
    },
    {
      "cell_type": "markdown",
      "metadata": {
        "id": "6R5P6AzWhxZQ"
      },
      "source": [
        "The ICA creates outputs which are in a very small range (0.01 to -0.01). However the given data is between 20.000 and -20.000, so if I try to perform the MSE on that it does not work, because they are in different scales, thats why we had normalized the signal input in the beginning. "
      ]
    },
    {
      "cell_type": "code",
      "metadata": {
        "id": "mo-cpUZTavgb",
        "outputId": "f952d376-36c3-46b3-bd54-75e18fa94962",
        "colab": {
          "base_uri": "https://localhost:8080/"
        }
      },
      "source": [
        "print(type(result_signal_1))\n",
        "print(type(signal_1))\n",
        "\n"
      ],
      "execution_count": 138,
      "outputs": [
        {
          "output_type": "stream",
          "text": [
            "<class 'numpy.ndarray'>\n",
            "<class 'numpy.ndarray'>\n"
          ],
          "name": "stdout"
        }
      ]
    },
    {
      "cell_type": "code",
      "metadata": {
        "id": "FQLHzekCfksv",
        "outputId": "dccf6850-71ca-4da3-8e26-ee00868d9220",
        "colab": {
          "base_uri": "https://localhost:8080/"
        }
      },
      "source": [
        "print(len(result_signal_1))\n",
        "print(len(signal_1))\n"
      ],
      "execution_count": 139,
      "outputs": [
        {
          "output_type": "stream",
          "text": [
            "264515\n",
            "264515\n"
          ],
          "name": "stdout"
        }
      ]
    },
    {
      "cell_type": "markdown",
      "metadata": {
        "id": "eoYiE59XbSSG"
      },
      "source": [
        "use np to create mean squared error "
      ]
    },
    {
      "cell_type": "code",
      "metadata": {
        "id": "Vk6MG6tabRfb"
      },
      "source": [
        "mse1 = mean_squared_error(signal_1, result_signal_1)"
      ],
      "execution_count": 140,
      "outputs": []
    },
    {
      "cell_type": "markdown",
      "metadata": {
        "id": "1uJZqSAckW4M"
      },
      "source": [
        "now for the second "
      ]
    },
    {
      "cell_type": "code",
      "metadata": {
        "id": "0osT5S0mkYgs"
      },
      "source": [
        "mse2 = mean_squared_error(signal_2, result_signal_2)"
      ],
      "execution_count": 141,
      "outputs": []
    },
    {
      "cell_type": "code",
      "metadata": {
        "id": "2BTgZar3gLI8",
        "outputId": "ee803449-fe1b-4459-be48-a028c075d4f4",
        "colab": {
          "base_uri": "https://localhost:8080/"
        }
      },
      "source": [
        "mse1"
      ],
      "execution_count": 142,
      "outputs": [
        {
          "output_type": "execute_result",
          "data": {
            "text/plain": [
              "1.6956485844696226e-06"
            ]
          },
          "metadata": {
            "tags": []
          },
          "execution_count": 142
        }
      ]
    },
    {
      "cell_type": "code",
      "metadata": {
        "id": "iMWP2JEHkg01",
        "outputId": "19c79ddd-4fc9-4d91-8463-b2ddbef13bc3",
        "colab": {
          "base_uri": "https://localhost:8080/"
        }
      },
      "source": [
        "mse2"
      ],
      "execution_count": 143,
      "outputs": [
        {
          "output_type": "execute_result",
          "data": {
            "text/plain": [
              "1.4725984992744216e-05"
            ]
          },
          "metadata": {
            "tags": []
          },
          "execution_count": 143
        }
      ]
    },
    {
      "cell_type": "markdown",
      "metadata": {
        "id": "vEcX9u-JkLcD"
      },
      "source": [
        "We get a Mean squarred error of 1.69 for the first signal processing and a MSE of 1.15 for the second quite big for such a small amplitude !"
      ]
    },
    {
      "cell_type": "markdown",
      "metadata": {
        "id": "IC2EAgWm2gfj"
      },
      "source": [
        "## Mean Absolute Error"
      ]
    },
    {
      "cell_type": "markdown",
      "metadata": {
        "id": "zUiWThlQzV4D"
      },
      "source": [
        "Now we can also search for the accuracy by building the sum over all values and dviding by the amount of values we have, we use the sklearn libary for that"
      ]
    },
    {
      "cell_type": "code",
      "metadata": {
        "id": "nD-GrzHFzcon",
        "outputId": "bf880b7e-1345-4eb7-92dd-40e8ac190636",
        "colab": {
          "base_uri": "https://localhost:8080/"
        }
      },
      "source": [
        "abserr1 = mean_absolute_error(signal_1, result_signal_1)\n",
        "abserr1"
      ],
      "execution_count": 144,
      "outputs": [
        {
          "output_type": "execute_result",
          "data": {
            "text/plain": [
              "0.001119404054919759"
            ]
          },
          "metadata": {
            "tags": []
          },
          "execution_count": 144
        }
      ]
    },
    {
      "cell_type": "code",
      "metadata": {
        "id": "uv7mh6Ej1NBg",
        "outputId": "fc4ed418-93cf-4902-f2b9-9b860d053c5c",
        "colab": {
          "base_uri": "https://localhost:8080/"
        }
      },
      "source": [
        "abserr2 = mean_absolute_error(signal_2, result_signal_2)\n",
        "abserr2"
      ],
      "execution_count": 145,
      "outputs": [
        {
          "output_type": "execute_result",
          "data": {
            "text/plain": [
              "0.003373620200407625"
            ]
          },
          "metadata": {
            "tags": []
          },
          "execution_count": 145
        }
      ]
    },
    {
      "cell_type": "markdown",
      "metadata": {
        "id": "5lJvo-wb2j_D"
      },
      "source": [
        "Very small, this means ICA works very precise"
      ]
    },
    {
      "cell_type": "markdown",
      "metadata": {
        "id": "H7go70p0nJo5"
      },
      "source": [
        "Now, save the files as wave files. This requires:\n",
        "\n",
        "convert them to integer (so we can save as PCM 16-bit Wave files), otherwise only some media players would be able to play them and others won’t\n",
        "Map the values to the appropriate range for int16 audio. That range is between -32768 and +32767. A basic mapping can be done by multiplying by 32767.\n",
        "The sounds will be a little faint, we can increase the volume by multiplying by a value like 100"
      ]
    },
    {
      "cell_type": "code",
      "metadata": {
        "id": "j5LCwwPiHI7Q"
      },
      "source": [
        "\n",
        "# Convert to int, map the appropriate range, and increase the volume a little bit\n",
        "result_signal_1_int = np.int16(result_signal_1*32767*100)\n",
        "result_signal_2_int = np.int16(result_signal_2*32767*100)\n",
        "\n",
        "# Write wave files\n",
        "wavfile.write(path_to_audio + \"/result_signal_1.wav\", fs, result_signal_1_int)\n",
        "wavfile.write(path_to_audio + \"/result_signal_2.wav\", fs, result_signal_2_int)"
      ],
      "execution_count": 146,
      "outputs": []
    },
    {
      "cell_type": "markdown",
      "metadata": {
        "id": "2qyrUkUWHoRH"
      },
      "source": [
        "Ex completed now we want compare with our own ears"
      ]
    }
  ]
}